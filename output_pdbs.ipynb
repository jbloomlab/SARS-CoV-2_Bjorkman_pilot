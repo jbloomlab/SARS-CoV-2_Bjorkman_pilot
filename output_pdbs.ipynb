{
 "cells": [
  {
   "cell_type": "markdown",
   "metadata": {},
   "source": [
    "# Output PDBs with escape scores as B factors\n",
    "This Python Jupyter notebook outputs PDBs with the escape scores as B factors.\n",
    "\n",
    "Though we will want more elaborate series of commands to codify our visualization of these RBD structures colored by escape, the series of commands below, when executed in a `PyMol` session with one of these PDBs open, will color the RBD surface according to escape scores.\n",
    "\n",
    "For example, to normalize each structure colored by the max mut effect, we might want to have a white to red scale from 0 to 1:\n",
    "\n",
    "     create RBD, chain E\n",
    "     hide all; show cartoon, chain A; color gray20, chain A\n",
    "     show surface, RBD; spectrum b, white red, RBD, minimum=0, maximum=1\n",
    "     \n",
    "For something like total escape, maybe we want each structure normalized to the maximum total escape in that structure, in which case we can just leave the maximum argument empty:\n",
    "\n",
    "     create RBD, chain E\n",
    "     hide all; show cartoon, chain A; color gray20, chain A\n",
    "     show surface, RBD; spectrum b, white red, RBD, minimum=0\n",
    "     \n",
    "We write PDBs with B factors indicating the total site escape and maximum mutation escape at each site, and the same with these values normalized to the maximum for the full structure (the latter are easier to process in `Chimera`).\n",
    "\n",
    "First, import Python modules:"
   ]
  },
  {
   "cell_type": "code",
   "execution_count": 1,
   "metadata": {
    "execution": {
     "iopub.execute_input": "2023-02-20T05:05:03.119777Z",
     "iopub.status.busy": "2023-02-20T05:05:03.118539Z",
     "iopub.status.idle": "2023-02-20T05:05:03.769070Z",
     "shell.execute_reply": "2023-02-20T05:05:03.768460Z"
    }
   },
   "outputs": [],
   "source": [
    "import collections\n",
    "import copy\n",
    "import os\n",
    "import warnings\n",
    "\n",
    "import Bio.PDB\n",
    "\n",
    "import dms_variants.pdb_utils\n",
    "\n",
    "from IPython.display import display, HTML\n",
    "\n",
    "import pandas as pd\n",
    "\n",
    "import yaml"
   ]
  },
  {
   "cell_type": "markdown",
   "metadata": {},
   "source": [
    "Read the configuration file:"
   ]
  },
  {
   "cell_type": "code",
   "execution_count": 2,
   "metadata": {
    "execution": {
     "iopub.execute_input": "2023-02-20T05:05:03.772991Z",
     "iopub.status.busy": "2023-02-20T05:05:03.772058Z",
     "iopub.status.idle": "2023-02-20T05:05:03.788993Z",
     "shell.execute_reply": "2023-02-20T05:05:03.788553Z"
    }
   },
   "outputs": [],
   "source": [
    "with open('config.yaml') as f:\n",
    "    config = yaml.safe_load(f)"
   ]
  },
  {
   "cell_type": "markdown",
   "metadata": {},
   "source": [
    "Read configuration for outputting PDBs:"
   ]
  },
  {
   "cell_type": "code",
   "execution_count": 3,
   "metadata": {
    "execution": {
     "iopub.execute_input": "2023-02-20T05:05:03.792016Z",
     "iopub.status.busy": "2023-02-20T05:05:03.791288Z",
     "iopub.status.idle": "2023-02-20T05:05:03.815066Z",
     "shell.execute_reply": "2023-02-20T05:05:03.798957Z"
    }
   },
   "outputs": [
    {
     "name": "stdout",
     "output_type": "stream",
     "text": [
      "Reading PDB output configuration from data/output_pdbs_config.yaml\n"
     ]
    }
   ],
   "source": [
    "print(f\"Reading PDB output configuration from {config['output_pdbs_config']}\")\n",
    "with open(config['output_pdbs_config']) as f:\n",
    "    output_pdbs_config = yaml.safe_load(f)"
   ]
  },
  {
   "cell_type": "markdown",
   "metadata": {},
   "source": [
    "Make output directory:"
   ]
  },
  {
   "cell_type": "code",
   "execution_count": 4,
   "metadata": {
    "execution": {
     "iopub.execute_input": "2023-02-20T05:05:03.841433Z",
     "iopub.status.busy": "2023-02-20T05:05:03.841190Z",
     "iopub.status.idle": "2023-02-20T05:05:03.845400Z",
     "shell.execute_reply": "2023-02-20T05:05:03.844951Z"
    }
   },
   "outputs": [],
   "source": [
    "os.makedirs(config['pdb_outputs_dir'], exist_ok=True)"
   ]
  },
  {
   "cell_type": "markdown",
   "metadata": {},
   "source": [
    "Read escape fractions and compute **total** and **maximum** escape at each site, and also the total and maximum escape at each site normalized to be between 0 and 1 for each selection:"
   ]
  },
  {
   "cell_type": "code",
   "execution_count": 5,
   "metadata": {
    "execution": {
     "iopub.execute_input": "2023-02-20T05:05:03.847533Z",
     "iopub.status.busy": "2023-02-20T05:05:03.847342Z",
     "iopub.status.idle": "2023-02-20T05:05:03.884251Z",
     "shell.execute_reply": "2023-02-20T05:05:03.883764Z"
    }
   },
   "outputs": [
    {
     "name": "stdout",
     "output_type": "stream",
     "text": [
      "Reading escape fractions from results/escape_scores/escape_fracs.csv\n"
     ]
    },
    {
     "data": {
      "text/html": [
       "<table border=\"1\" class=\"dataframe\">\n",
       "  <thead>\n",
       "    <tr style=\"text-align: right;\">\n",
       "      <th>selection</th>\n",
       "      <th>site</th>\n",
       "      <th>total_escape</th>\n",
       "      <th>max_escape</th>\n",
       "      <th>max_total_escape</th>\n",
       "      <th>max_max_escape</th>\n",
       "      <th>norm_total_escape</th>\n",
       "      <th>norm_max_escape</th>\n",
       "    </tr>\n",
       "  </thead>\n",
       "  <tbody>\n",
       "    <tr>\n",
       "      <td>Admix-8b_3125</td>\n",
       "      <td>331</td>\n",
       "      <td>0.065481</td>\n",
       "      <td>0.02057</td>\n",
       "      <td>0.72246</td>\n",
       "      <td>0.09275</td>\n",
       "      <td>0.090636</td>\n",
       "      <td>0.221779</td>\n",
       "    </tr>\n",
       "    <tr>\n",
       "      <td>Admix-8b_3125</td>\n",
       "      <td>332</td>\n",
       "      <td>0.154490</td>\n",
       "      <td>0.05465</td>\n",
       "      <td>0.72246</td>\n",
       "      <td>0.09275</td>\n",
       "      <td>0.213839</td>\n",
       "      <td>0.589218</td>\n",
       "    </tr>\n",
       "    <tr>\n",
       "      <td>Admix-8b_3125</td>\n",
       "      <td>333</td>\n",
       "      <td>0.150070</td>\n",
       "      <td>0.04486</td>\n",
       "      <td>0.72246</td>\n",
       "      <td>0.09275</td>\n",
       "      <td>0.207721</td>\n",
       "      <td>0.483666</td>\n",
       "    </tr>\n",
       "    <tr>\n",
       "      <td>Admix-8b_3125</td>\n",
       "      <td>334</td>\n",
       "      <td>0.117720</td>\n",
       "      <td>0.05082</td>\n",
       "      <td>0.72246</td>\n",
       "      <td>0.09275</td>\n",
       "      <td>0.162943</td>\n",
       "      <td>0.547925</td>\n",
       "    </tr>\n",
       "    <tr>\n",
       "      <td>Admix-8b_3125</td>\n",
       "      <td>335</td>\n",
       "      <td>0.209273</td>\n",
       "      <td>0.04040</td>\n",
       "      <td>0.72246</td>\n",
       "      <td>0.09275</td>\n",
       "      <td>0.289667</td>\n",
       "      <td>0.435580</td>\n",
       "    </tr>\n",
       "  </tbody>\n",
       "</table>"
      ],
      "text/plain": [
       "<IPython.core.display.HTML object>"
      ]
     },
     "metadata": {},
     "output_type": "display_data"
    }
   ],
   "source": [
    "print(f\"Reading escape fractions from {config['escape_fracs']}\")\n",
    "\n",
    "escape_fracs = (\n",
    "    pd.read_csv(config['escape_fracs'])\n",
    "    .query('library == \"average\"')\n",
    "    .assign(site=lambda x: x['label_site'])\n",
    "    .groupby(['selection', 'site'])\n",
    "    .aggregate(total_escape=pd.NamedAgg(config['mut_metric'], 'sum'),\n",
    "               max_escape=pd.NamedAgg(config['mut_metric'], 'max')\n",
    "               )\n",
    "    .reset_index()\n",
    "    .assign(max_total_escape=lambda x: x.groupby('selection')['total_escape'].transform('max'),\n",
    "            max_max_escape=lambda x: x.groupby('selection')['max_escape'].transform('max'),\n",
    "            norm_total_escape=lambda x: x['total_escape'] / x['max_total_escape'],\n",
    "            norm_max_escape=lambda x: x['max_escape'] / x['max_max_escape'])\n",
    "    )\n",
    "\n",
    "display(HTML(escape_fracs.head().to_html(index=False)))"
   ]
  },
  {
   "cell_type": "markdown",
   "metadata": {},
   "source": [
    "Now map the escape metrics to the B-factors.\n",
    "For sites where no mutations have escape scores:\n",
    " - In the RBD chain(s) fill the B-factor for non-normalized scores to -1 to enable collapsing to zero or callout as a a separate class, depending how we choose to color sites for different visualizations. For normalized scores, fill to 0.\n",
    " - In other chains, always fill missing B factors to 0.  "
   ]
  },
  {
   "cell_type": "code",
   "execution_count": 6,
   "metadata": {
    "execution": {
     "iopub.execute_input": "2023-02-20T05:05:03.887465Z",
     "iopub.status.busy": "2023-02-20T05:05:03.886676Z",
     "iopub.status.idle": "2023-02-20T05:05:11.376178Z",
     "shell.execute_reply": "2023-02-20T05:05:11.375692Z"
    }
   },
   "outputs": [
    {
     "name": "stdout",
     "output_type": "stream",
     "text": [
      "\n",
      "Making PDB mappings for 6m0j to data/pdbs/6M0J.pdb\n",
      "Making mappings for 3 conditions.\n",
      "Mapping to the following chains: E\n",
      "  Writing B-factor re-assigned PDBs for Admix-8b_3125 to:\n",
      "    results/pdb_outputs/Admix-8b_3125_6m0j_total_escape.pdb\n",
      "    results/pdb_outputs/Admix-8b_3125_6m0j_max_escape.pdb\n",
      "    results/pdb_outputs/Admix-8b_3125_6m0j_norm_total_escape.pdb\n",
      "    results/pdb_outputs/Admix-8b_3125_6m0j_norm_max_escape.pdb\n",
      "  Writing B-factor re-assigned PDBs for HS2B_3125 to:\n",
      "    results/pdb_outputs/HS2B_3125_6m0j_total_escape.pdb\n",
      "    results/pdb_outputs/HS2B_3125_6m0j_max_escape.pdb\n",
      "    results/pdb_outputs/HS2B_3125_6m0j_norm_total_escape.pdb\n",
      "    results/pdb_outputs/HS2B_3125_6m0j_norm_max_escape.pdb\n",
      "  Writing B-factor re-assigned PDBs for Mosaic-8b_3125 to:\n",
      "    results/pdb_outputs/Mosaic-8b_3125_6m0j_total_escape.pdb\n",
      "    results/pdb_outputs/Mosaic-8b_3125_6m0j_max_escape.pdb\n",
      "    results/pdb_outputs/Mosaic-8b_3125_6m0j_norm_total_escape.pdb\n",
      "    results/pdb_outputs/Mosaic-8b_3125_6m0j_norm_max_escape.pdb\n",
      "\n",
      "Making PDB mappings for 7LYQ to data/pdbs/7LYQ.pdb\n",
      "Making mappings for 3 conditions.\n",
      "Mapping to the following chains: B\n",
      "  Writing B-factor re-assigned PDBs for Admix-8b_3125 to:\n",
      "    results/pdb_outputs/Admix-8b_3125_7LYQ_total_escape.pdb\n",
      "    results/pdb_outputs/Admix-8b_3125_7LYQ_max_escape.pdb\n",
      "    results/pdb_outputs/Admix-8b_3125_7LYQ_norm_total_escape.pdb\n",
      "    results/pdb_outputs/Admix-8b_3125_7LYQ_norm_max_escape.pdb\n",
      "  Writing B-factor re-assigned PDBs for HS2B_3125 to:\n",
      "    results/pdb_outputs/HS2B_3125_7LYQ_total_escape.pdb\n",
      "    results/pdb_outputs/HS2B_3125_7LYQ_max_escape.pdb\n",
      "    results/pdb_outputs/HS2B_3125_7LYQ_norm_total_escape.pdb\n",
      "    results/pdb_outputs/HS2B_3125_7LYQ_norm_max_escape.pdb\n",
      "  Writing B-factor re-assigned PDBs for Mosaic-8b_3125 to:\n",
      "    results/pdb_outputs/Mosaic-8b_3125_7LYQ_total_escape.pdb\n",
      "    results/pdb_outputs/Mosaic-8b_3125_7LYQ_max_escape.pdb\n",
      "    results/pdb_outputs/Mosaic-8b_3125_7LYQ_norm_total_escape.pdb\n",
      "    results/pdb_outputs/Mosaic-8b_3125_7LYQ_norm_max_escape.pdb\n"
     ]
    }
   ],
   "source": [
    "for name, specs in output_pdbs_config.items():\n",
    "    print(f\"\\nMaking PDB mappings for {name} to {specs['pdbfile']}\")\n",
    "    assert os.path.isfile(specs['pdbfile'])\n",
    "    \n",
    "    # get escape fracs just for conditions of interest\n",
    "    if isinstance(specs['conditions'], str) and specs['conditions'].upper() == 'ALL':\n",
    "        conditions = escape_fracs['selection'].unique().tolist()\n",
    "    else:\n",
    "        assert isinstance(specs['conditions'], list)\n",
    "        conditions = specs['conditions']\n",
    "    print(f\"Making mappings for {len(conditions)} conditions.\")\n",
    "    df = escape_fracs.query('selection in @conditions')\n",
    "    \n",
    "    # get chains\n",
    "    assert isinstance(specs['chains'], list)\n",
    "    print('Mapping to the following chains: ' + ', '.join(specs['chains']))\n",
    "    df = pd.concat([df.assign(chain=chain) for chain in specs['chains']], ignore_index=True)\n",
    "    \n",
    "    # make mappings for each condition and metric\n",
    "    for condition, df in df.groupby('selection'):\n",
    "        print(f\"  Writing B-factor re-assigned PDBs for {condition} to:\")\n",
    "    \n",
    "        for metric in ['total_escape', 'max_escape', 'norm_total_escape', 'norm_max_escape']:\n",
    "        \n",
    "            # what do we assign to missing sites?\n",
    "            missing_metric = collections.defaultdict(lambda: 0)  # non-RBD chains always fill to zero\n",
    "            for chain in specs['chains']:\n",
    "                if 'norm' in metric:\n",
    "                    missing_metric[chain] = 0  # missing sites in RBD are 0 for normalized metric PDBs\n",
    "                else:\n",
    "                    missing_metric[chain] = -1  # missing sites in RBD are -1 for non-normalized metric PDBs\n",
    "        \n",
    "            fname = os.path.join(config['pdb_outputs_dir'], f\"{condition}_{name}_{metric}.pdb\")\n",
    "            print(f\"    {fname}\")\n",
    "            \n",
    "            dms_variants.pdb_utils.reassign_b_factor(input_pdbfile=specs['pdbfile'],\n",
    "                                                     output_pdbfile=fname,\n",
    "                                                     df=df,\n",
    "                                                     metric_col=metric,\n",
    "                                                     missing_metric=missing_metric)"
   ]
  }
 ],
 "metadata": {
  "language_info": {
   "codemirror_mode": {
    "name": "ipython",
    "version": 3
   },
   "file_extension": ".py",
   "mimetype": "text/x-python",
   "name": "python",
   "nbconvert_exporter": "python",
   "pygments_lexer": "ipython3",
   "version": "3.8.15"
  }
 },
 "nbformat": 4,
 "nbformat_minor": 4
}
